{
  "cells": [
    {
      "cell_type": "markdown",
      "metadata": {
        "id": "MH-3kVwvJYeP"
      },
      "source": [
        "# 2.3 Типы коллекций. Последовательности, множества, отображения"
      ]
    },
    {
      "cell_type": "markdown",
      "metadata": {
        "id": "gMwyKhlQJ1mf"
      },
      "source": [
        "## Задание 1"
      ]
    },
    {
      "cell_type": "markdown",
      "metadata": {
        "id": "Owu684lKKrjJ"
      },
      "source": [
        "**Условие:**\n",
        "Создайте кортеж из ```10```  произвольных значений. Выведите элементы кортежа по целым положительным индексам и по целым отрицательным индексам.\n"
      ]
    },
    {
      "cell_type": "markdown",
      "metadata": {
        "id": "OCTvo3fHLaaJ"
      },
      "source": [
        "**Решение:**"
      ]
    },
    {
      "cell_type": "code",
      "execution_count": null,
      "metadata": {
        "colab": {
          "base_uri": "https://localhost:8080/"
        },
        "id": "f9_8IGndLeRO",
        "outputId": "348a1b1c-de36-4843-94ea-f4edbc0932e5"
      },
      "outputs": [
        {
          "output_type": "stream",
          "name": "stdout",
          "text": [
            "Положительный индекс 0: 1\n",
            "Положительный индекс 1: 2\n",
            "Положительный индекс 2: 3\n",
            "Положительный индекс 3: 4\n",
            "Положительный индекс 4: 5\n",
            "Положительный индекс 5: 6\n",
            "Положительный индекс 6: 7\n",
            "Положительный индекс 7: 8\n",
            "Положительный индекс 8: 9\n",
            "Положительный индекс 9: 10\n",
            "Отрицательный индекс -1: 10\n",
            "Отрицательный индекс -2: 9\n",
            "Отрицательный индекс -3: 8\n",
            "Отрицательный индекс -4: 7\n",
            "Отрицательный индекс -5: 6\n",
            "Отрицательный индекс -6: 5\n",
            "Отрицательный индекс -7: 4\n",
            "Отрицательный индекс -8: 3\n",
            "Отрицательный индекс -9: 2\n",
            "Отрицательный индекс -10: 1\n"
          ]
        }
      ],
      "source": [
        "# Создаем кортеж из 10 произвольных значений\n",
        "my_tuple = (1, 2, 3, 4, 5, 6, 7, 8, 9, 10)\n",
        "\n",
        "# Выводим элементы кортежа по целым положительным индексам\n",
        "for i in range(len(my_tuple)):\n",
        "    print(f\"Положительный индекс {i}: {my_tuple[i]}\")\n",
        "\n",
        "# Выводим элементы кортежа по целым отрицательным индексам\n",
        "for i in range(-1, -len(my_tuple)-1, -1):\n",
        "    print(f\"Отрицательный индекс {i}: {my_tuple[i]}\")\n"
      ]
    },
    {
      "cell_type": "markdown",
      "metadata": {
        "id": "g5S0h2-wKfGE"
      },
      "source": [
        "## Задание 2"
      ]
    },
    {
      "cell_type": "markdown",
      "metadata": {
        "id": "orX7BUzcPKKf"
      },
      "source": [
        "**Условие:**\n",
        "Создайте список из ```10``` последовательных чисел. Прибавьте ```1``` к значениям списка, проходя по нему в цикле."
      ]
    },
    {
      "cell_type": "markdown",
      "metadata": {
        "id": "ESSLfwqEPKKn"
      },
      "source": [
        "**Решение:**"
      ]
    },
    {
      "cell_type": "code",
      "execution_count": null,
      "metadata": {
        "colab": {
          "base_uri": "https://localhost:8080/"
        },
        "id": "y8HOlaNLPKKq",
        "outputId": "496532d6-68b3-472e-ff0a-b875aba55d07"
      },
      "outputs": [
        {
          "output_type": "stream",
          "name": "stdout",
          "text": [
            "[2, 3, 4, 5, 6, 7, 8, 9, 10, 11]\n"
          ]
        }
      ],
      "source": [
        "my_list = list(range(1, 11))\n",
        "\n",
        "for i in range(len(my_list)):\n",
        "    my_list[i] += 1\n",
        "\n",
        "print(my_list)"
      ]
    },
    {
      "cell_type": "markdown",
      "metadata": {
        "id": "tq0Fcrg1KfXQ"
      },
      "source": [
        "## Задание 3"
      ]
    },
    {
      "cell_type": "markdown",
      "metadata": {
        "id": "3xp-jyyHPMIb"
      },
      "source": [
        "**Условие:**\n",
        "Создайте словарь из ```5``` сотрудников, где ключ - это имя сотрудника, а значение - его заработная плата.\n"
      ]
    },
    {
      "cell_type": "markdown",
      "metadata": {
        "id": "H5ZlBsI2PMIi"
      },
      "source": [
        "**Решение:**"
      ]
    },
    {
      "cell_type": "code",
      "execution_count": null,
      "metadata": {
        "colab": {
          "base_uri": "https://localhost:8080/"
        },
        "id": "6amsYUCoPMIn",
        "outputId": "17c32229-6899-43cf-e314-402942943544"
      },
      "outputs": [
        {
          "output_type": "stream",
          "name": "stdout",
          "text": [
            "{'Анна': 50000, 'Иван': 60000, 'Мария': 55000, 'Петр': 58000, 'Елена': 52000}\n"
          ]
        }
      ],
      "source": [
        "employees = {\n",
        "\"Анна\": 50000,\n",
        "    \"Иван\": 60000,\n",
        "    \"Мария\": 55000,\n",
        "    \"Петр\": 58000,\n",
        "    \"Елена\": 52000\n",
        "              }\n",
        "\n",
        "print(employees)"
      ]
    }
  ],
  "metadata": {
    "colab": {
      "provenance": []
    },
    "kernelspec": {
      "display_name": "Python 3 (ipykernel)",
      "language": "python",
      "name": "python3"
    },
    "language_info": {
      "codemirror_mode": {
        "name": "ipython",
        "version": 3
      },
      "file_extension": ".py",
      "mimetype": "text/x-python",
      "name": "python",
      "nbconvert_exporter": "python",
      "pygments_lexer": "ipython3",
      "version": "3.11.7"
    }
  },
  "nbformat": 4,
  "nbformat_minor": 0
}