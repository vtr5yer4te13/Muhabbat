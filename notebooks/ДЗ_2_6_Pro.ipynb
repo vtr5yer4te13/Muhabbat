{
  "cells": [
    {
      "cell_type": "markdown",
      "metadata": {
        "id": "MH-3kVwvJYeP"
      },
      "source": [
        "# 2.6 Модули"
      ]
    },
    {
      "cell_type": "markdown",
      "metadata": {
        "id": "Ul9jm4IVKflm"
      },
      "source": [
        "## Задание 1"
      ]
    },
    {
      "cell_type": "markdown",
      "metadata": {
        "id": "MHcCRybmPN2l"
      },
      "source": [
        "**Условие:**\n",
        "Посчитать значение $\\cos^2(\\pi^{25})$ и $\\sin^2(\\pi^{25})$, используя указанные функции из библиотеки ```math```, применив для этого **каждую** из конструкций импорта:\n",
        "```python\n",
        "# 1. Импорт модуля или модулей целиком\n",
        "import имя_модуля\n",
        "import имя_модуля1, имя_модуля2\n",
        "\n",
        "# 2. Импорт модуля с присвоением псевдонима модулю\n",
        "import имя_модуля as новое_имя\n",
        "\n",
        "# 3. Импорт конкретного объекта из модуля\n",
        "from имя_модуля import имя_объекта\n",
        "from имя_модуля import имя_объекта1, имя_объекта2\n",
        "\n",
        "# 4. Импорт конкретного объекта из модуля с присвоением псевдонима объекту\n",
        "from имя_модуля import имя_объекта as псевдоним_объекта\n",
        "\n",
        "# 5. Импорт всех объектов из модуля\n",
        "from имя_модуля import *\n",
        "```\n",
        "Найдите произведение $\\cos^2(\\pi^{25})*\\sin^2(\\pi^{25})$.\n",
        "\n",
        "**Формат ответа:** Число с плавающей запятой, округленное до десятых (например,```0.1```)\n"
      ]
    },
    {
      "cell_type": "markdown",
      "metadata": {
        "id": "KGKyYMeJPN2v"
      },
      "source": [
        "**Решение:**"
      ]
    },
    {
      "cell_type": "code",
      "execution_count": null,
      "metadata": {
        "id": "JXulcWCxPN26",
        "colab": {
          "base_uri": "https://localhost:8080/"
        },
        "outputId": "f33033c6-1b69-4c9e-8d01-d130b20a13b7"
      },
      "outputs": [
        {
          "output_type": "stream",
          "name": "stdout",
          "text": [
            "8.836520640561499e-10\n"
          ]
        }
      ],
      "source": [
        "import math\n",
        "cos_pi_25 = math.cos(math.pi/25) ** 2\n",
        "sin_pi_25 = math.sin(math.pi/25) ** 2\n",
        "\n",
        "# 2. Импорт модуля с присвоением псевдонима модулю\n",
        "import math as m\n",
        "cos_pi_25_alias = m.cos(m.pi/25) ** 2\n",
        "sin_pi_25_alias = m.sin(m.pi/25) ** 2\n",
        "\n",
        "# 3. Импорт конкретного объекта из модуля\n",
        "from math import cos, sin\n",
        "cos_pi_25_specific = cos(math.pi/25) ** 2\n",
        "sin_pi_25_specific = sin(math.pi/25) ** 2\n",
        "\n",
        "# 4. Импорт конкретного объекта из модуля с присвоением псевдонима объекту\n",
        "from math import cos as c, sin as s\n",
        "cos_pi_25_alias_specific = c(math.pi/25) ** 2\n",
        "sin_pi_25_alias_specific = s(math.pi/25) ** 2\n",
        "\n",
        "# 5. Импорт всех объектов из модуля\n",
        "from math import *\n",
        "cos_pi_25_all = cos(pi/25) ** 2\n",
        "sin_pi_25_all = sin(pi/25) ** 2\n",
        "\n",
        "result_product = cos_pi_25 * sin_pi_25 * cos_pi_25_alias * sin_pi_25_alias * cos_pi_25_specific * sin_pi_25_specific * cos_pi_25_alias_specific * sin_pi_25_alias_specific * cos_pi_25_all * sin_pi_25_all\n",
        "print(result_product)"
      ]
    },
    {
      "cell_type": "markdown",
      "metadata": {
        "id": "zWLADp8od4Fb"
      },
      "source": [
        "## Задание 2"
      ]
    },
    {
      "cell_type": "markdown",
      "metadata": {
        "id": "UoOi1BsVd4Fk"
      },
      "source": [
        "**Условие:**\n",
        "Напишите свой модуль ```my_math.py```, в котором реализованы функции умножения и сложения чисел. Загрузите файл в Google colab. Подключите данный модуль любым способом и найдите значение выражения: $(123+432)*21+452*9876$, используя только функции из вашего модуля.\n",
        "\n",
        "**Формат ответа:** Целое число\n"
      ]
    },
    {
      "cell_type": "markdown",
      "metadata": {
        "id": "lrstOHX0d4Fr"
      },
      "source": [
        "**Решение:**"
      ]
    },
    {
      "cell_type": "code",
      "execution_count": null,
      "metadata": {
        "colab": {
          "base_uri": "https://localhost:8080/"
        },
        "id": "oyROkfqid4Fv",
        "outputId": "bfb80fb8-8e28-4c91-f914-d2d28b98011f"
      },
      "outputs": [
        {
          "output_type": "stream",
          "name": "stdout",
          "text": [
            "4475607\n"
          ]
        }
      ],
      "source": [
        "def add(a, b):\n",
        "    return a + b\n",
        "\n",
        "def multiply(a, b):\n",
        "    return a * b\n",
        "    from my_math import add, multiply\n",
        "\n",
        "result = multiply(add(123, 432), 21) + multiply(452, 9876)\n",
        "print(result)\n"
      ]
    },
    {
      "cell_type": "code",
      "execution_count": null,
      "metadata": {
        "id": "LzOSIxdd6vej"
      },
      "outputs": [],
      "source": []
    }
  ],
  "metadata": {
    "colab": {
      "provenance": []
    },
    "kernelspec": {
      "display_name": "Python 3 (ipykernel)",
      "language": "python",
      "name": "python3"
    },
    "language_info": {
      "codemirror_mode": {
        "name": "ipython",
        "version": 3
      },
      "file_extension": ".py",
      "mimetype": "text/x-python",
      "name": "python",
      "nbconvert_exporter": "python",
      "pygments_lexer": "ipython3",
      "version": "3.11.7"
    }
  },
  "nbformat": 4,
  "nbformat_minor": 0
}