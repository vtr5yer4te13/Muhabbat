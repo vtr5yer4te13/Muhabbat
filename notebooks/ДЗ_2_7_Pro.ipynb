{
  "cells": [
    {
      "cell_type": "markdown",
      "metadata": {
        "id": "MH-3kVwvJYeP"
      },
      "source": [
        "\n",
        "# 2.7 Обработка исключений"
      ]
    },
    {
      "cell_type": "markdown",
      "metadata": {
        "id": "Mv3Lt4M3KfxS"
      },
      "source": [
        "## Задание 1"
      ]
    },
    {
      "cell_type": "markdown",
      "metadata": {
        "id": "wdbYgJfkPPCb"
      },
      "source": [
        "**Условие:** С помощью конструкции ```try...except...``` реализуйте перехват исключения при вводе пользователем не числового или нулевого значения в функции подсчета обратного значения числа. Выведите предупреждение с описанием ошибки. Какой тип ошибки перехватывается при вводе не числового значения?\n",
        "\n",
        "**Формат ответа:** Строка (например, ```'IndexError'```)"
      ]
    },
    {
      "cell_type": "markdown",
      "metadata": {
        "id": "bIzgjMPtPPCm"
      },
      "source": [
        "**Решение:**"
      ]
    },
    {
      "cell_type": "code",
      "execution_count": null,
      "metadata": {
        "id": "L_j90Z-UPPCt",
        "outputId": "65501c40-4605-4fda-f466-790b39ed78b3",
        "colab": {
          "base_uri": "https://localhost:8080/"
        }
      },
      "outputs": [
        {
          "output_type": "stream",
          "name": "stdout",
          "text": [
            "Введите число для нахождения обратного значения: 4475\n",
            "Обратное значение числа 4475.0 равно 0.000223463687150838\n"
          ]
        }
      ],
      "source": [
        "def calculate_inverse_number():\n",
        "    try:\n",
        "        user_input = input(\"Введите число для нахождения обратного значения: \")\n",
        "        number = float(user_input)\n",
        "\n",
        "        if number == 0:\n",
        "            raise ValueError(\"Ошибка: Введено нулевое значение.\")\n",
        "\n",
        "        inverse_number = 1 / number\n",
        "        print(f\"Обратное значение числа {number} равно {inverse_number}\")\n",
        "\n",
        "    except ValueError as e:\n",
        "        print(e)\n",
        "\n",
        "calculate_inverse_number()\n"
      ]
    },
    {
      "cell_type": "markdown",
      "metadata": {
        "id": "_xCYfSFPnlAy"
      },
      "source": [
        "## Задание 2"
      ]
    },
    {
      "cell_type": "markdown",
      "metadata": {
        "id": "GybRlM7onlA3"
      },
      "source": [
        "**Условие:**\n",
        "Напишите функцию безопасного открытия файла, в которой с помощью конструкции ```try...except...``` реализуется перехват исключения при невозможности открытия файла в случае его отсутствия. Какой тип исключения при этом возникает?\n",
        "\n",
        "**Формат ответа:** Строка (например, ```'IndexError'```)"
      ]
    },
    {
      "cell_type": "markdown",
      "metadata": {
        "id": "MX5hE3funlA6"
      },
      "source": [
        "**Решение:**"
      ]
    },
    {
      "cell_type": "code",
      "execution_count": null,
      "metadata": {
        "id": "wof6b39wnlA9",
        "outputId": "1fa3451d-c7d3-4b77-af6d-48b09b91188a",
        "colab": {
          "base_uri": "https://localhost:8080/"
        }
      },
      "outputs": [
        {
          "output_type": "stream",
          "name": "stdout",
          "text": [
            "Ошибка: Файл 'example.txt' не найден.\n"
          ]
        }
      ],
      "source": [
        "def safe_open_file(file_path):\n",
        "    try:\n",
        "        with open(file_path, 'r') as file:\n",
        "            content = file.read()\n",
        "            print(f\"Содержимое файла {file_path}:\")\n",
        "            print(content)\n",
        "    except FileNotFoundError:\n",
        "        print(f\"Ошибка: Файл '{file_path}' не найден.\")\n",
        "    except Exception as e:\n",
        "        print(f\"Произошла ошибка при попытке открыть файл '{file_path}': {e}\")\n",
        "\n",
        "# Пример вызова функции\n",
        "file_path = \"example.txt\"\n",
        "safe_open_file(file_path)"
      ]
    }
  ],
  "metadata": {
    "colab": {
      "provenance": []
    },
    "kernelspec": {
      "display_name": "Python 3 (ipykernel)",
      "language": "python",
      "name": "python3"
    },
    "language_info": {
      "codemirror_mode": {
        "name": "ipython",
        "version": 3
      },
      "file_extension": ".py",
      "mimetype": "text/x-python",
      "name": "python",
      "nbconvert_exporter": "python",
      "pygments_lexer": "ipython3",
      "version": "3.11.7"
    }
  },
  "nbformat": 4,
  "nbformat_minor": 0
}