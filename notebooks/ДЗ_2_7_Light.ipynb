{
  "cells": [
    {
      "cell_type": "markdown",
      "metadata": {
        "id": "MH-3kVwvJYeP"
      },
      "source": [
        "# 2.7 Обработка исключений"
      ]
    },
    {
      "cell_type": "markdown",
      "metadata": {
        "id": "Mv3Lt4M3KfxS"
      },
      "source": [
        "## Задание 1"
      ]
    },
    {
      "cell_type": "markdown",
      "metadata": {
        "id": "wdbYgJfkPPCb"
      },
      "source": [
        "**Условие:** С помощью конструкции ```try...except...``` реализуйте перехват исключения при вводе пользователем не числового значения. Выведите предупреждение об ошибке. Поблагодарите пользователя независимо от правильности ввода! Какой тип ошибки перехватывается при вводе не числового значения?\n",
        "\n",
        "**Формат ответа:** Строка (например,  ```'IndexError'```)"
      ]
    },
    {
      "cell_type": "markdown",
      "metadata": {
        "id": "bIzgjMPtPPCm"
      },
      "source": [
        "**Решение:**"
      ]
    },
    {
      "cell_type": "code",
      "execution_count": null,
      "metadata": {
        "colab": {
          "base_uri": "https://localhost:8080/"
        },
        "id": "L_j90Z-UPPCt",
        "outputId": "e4228eb0-411f-4d4b-8eb1-5f4e818ab457"
      },
      "outputs": [
        {
          "output_type": "stream",
          "name": "stdout",
          "text": [
            "Введите число: 44\n",
            "Спасибо за ввод!\n"
          ]
        }
      ],
      "source": [
        "try:\n",
        "    user_input = input(\"Введите число: \")\n",
        "    number = float(user_input)\n",
        "except ValueError:\n",
        "    print(\"Ошибка: Введено не числовое значение.\")\n",
        "finally:\n",
        "    print(\"Спасибо за ввод!\")\n"
      ]
    }
  ],
  "metadata": {
    "colab": {
      "provenance": []
    },
    "kernelspec": {
      "display_name": "Python 3 (ipykernel)",
      "language": "python",
      "name": "python3"
    },
    "language_info": {
      "codemirror_mode": {
        "name": "ipython",
        "version": 3
      },
      "file_extension": ".py",
      "mimetype": "text/x-python",
      "name": "python",
      "nbconvert_exporter": "python",
      "pygments_lexer": "ipython3",
      "version": "3.11.7"
    }
  },
  "nbformat": 4,
  "nbformat_minor": 0
}