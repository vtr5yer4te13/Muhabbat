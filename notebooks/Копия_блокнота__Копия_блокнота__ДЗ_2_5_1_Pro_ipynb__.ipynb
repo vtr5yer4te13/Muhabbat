{
  "cells": [
    {
      "cell_type": "markdown",
      "metadata": {
        "id": "MH-3kVwvJYeP"
      },
      "source": [
        "# 2.5.1 Основы написания функций"
      ]
    },
    {
      "cell_type": "markdown",
      "metadata": {
        "id": "gMwyKhlQJ1mf"
      },
      "source": [
        "## Задание 1"
      ]
    },
    {
      "cell_type": "markdown",
      "metadata": {
        "id": "Owu684lKKrjJ"
      },
      "source": [
        "**Условие:**\n",
        "Напишите функцию ```multi_mean()```, которая может принимать на вход любое количество чисел и возвращает кортеж различных средних значений (среднее арифметическое, среднее геометрическое, среднее гармоническое). В ответе укажите результат работы функции для ```multi_mean(1.74, 2, 18, 24)```.\n",
        "\n",
        "**Формат ответа:**\n",
        "Кортеж чисел (например, ```(25.4, 8.2, 3.5)```)"
      ]
    },
    {
      "cell_type": "markdown",
      "metadata": {
        "id": "OCTvo3fHLaaJ"
      },
      "source": [
        "**Решение:**"
      ]
    },
    {
      "cell_type": "code",
      "execution_count": null,
      "metadata": {
        "id": "f9_8IGndLeRO"
      },
      "outputs": [],
      "source": [
        "import math\n",
        "\n",
        "def multi_mean(*args):\n",
        "    n = len(args)\n",
        "    arithmetic_mean = sum(args) / n\n",
        "    geometric_mean = math.prod(args) ** (1/n)\n",
        "    harmonic_mean = n / sum(1/x for x in args)\n",
        "    return (arithmetic_mean, geometric_mean, harmonic_mean)\n",
        "\n",
        "result = multi_mean(1.74, 2, 18, 24)\n",
        "print(result)"
      ]
    },
    {
      "cell_type": "markdown",
      "metadata": {
        "id": "po9IAGLrN40v"
      },
      "source": [
        "## Задание 2"
      ]
    },
    {
      "cell_type": "markdown",
      "metadata": {
        "id": "d1a0uN6YN41B"
      },
      "source": [
        "**Условие:**\n",
        "Напишите функцию, которая принимает на вход в виде именованных переменных длины сторон параллелепипеда и возвращает кортеж значений (площадь параллелепипеда, объем параллелепипеда). Напишите строку документации для данной функции. В ответе укажите результат работы функции для длин сторон ```2,12,6```.\n",
        "\n",
        "**Формат ответа:**\n",
        "Кортеж чисел (например, ```(25.4, 8.2)```)"
      ]
    },
    {
      "cell_type": "markdown",
      "metadata": {
        "id": "iWPZadMmN41H"
      },
      "source": [
        "**Решение:**"
      ]
    },
    {
      "cell_type": "code",
      "execution_count": null,
      "metadata": {
        "id": "woFKze5xN41M"
      },
      "outputs": [],
      "source": [
        "def calculate_parallelepiped(length, width, height):\n",
        "    \"\"\"\n",
        "    Рассчитывает площадь и объем параллелепипеда.\n",
        "\n",
        "    Аргументы:\n",
        "    length -- длина параллелепипеда\n",
        "    width -- ширина параллелепипеда\n",
        "    height -- высота параллелепипеда\n",
        "\n",
        "    Возвращает:\n",
        "    Кортеж значений (площадь, объем) параллелепипеда.\n",
        "    \"\"\"\n",
        "    area = 2 * (length * width + length * height + width * height)\n",
        "    volume = length * width * height\n",
        "    return (area, volume)\n",
        "\n",
        "result = calculate_parallelepiped(length=2, width=12, height=6)\n",
        "print(result)"
      ]
    },
    {
      "cell_type": "markdown",
      "metadata": {
        "id": "ZuoZQfnXPWcB"
      },
      "source": [
        "## Задание 3"
      ]
    },
    {
      "cell_type": "markdown",
      "metadata": {
        "id": "CCiiVIVzPWcF"
      },
      "source": [
        "**Условие:**\n",
        "Напишите функцию подсчета факториала числа. Найдите значение ```12!```.\n",
        "\n",
        "**Формат ответа:**\n",
        "Число (например, ```1235```)\n"
      ]
    },
    {
      "cell_type": "markdown",
      "metadata": {
        "id": "Flg_SH_8PWcJ"
      },
      "source": [
        "**Решение:**"
      ]
    },
    {
      "cell_type": "code",
      "execution_count": null,
      "metadata": {
        "id": "OqMIG3a9PWcM"
      },
      "outputs": [],
      "source": [
        "def factorial(n):\n",
        "    \"\"\"\n",
        "    Вычисляет факториал числа.\n",
        "\n",
        "    Аргументы:\n",
        "    n -- число, для которого требуется найти факториал\n",
        "\n",
        "    Возвращает:\n",
        "    Факториал числа n.\n",
        "    \"\"\"\n",
        "    if n == 0:\n",
        "        return 1\n",
        "    else:\n",
        "        return n * factorial(n-1)\n",
        "\n",
        "result = factorial(12)\n",
        "print(result)"
      ]
    }
  ],
  "metadata": {
    "colab": {
      "provenance": []
    },
    "kernelspec": {
      "display_name": "Python 3 (ipykernel)",
      "language": "python",
      "name": "python3"
    },
    "language_info": {
      "codemirror_mode": {
        "name": "ipython",
        "version": 3
      },
      "file_extension": ".py",
      "mimetype": "text/x-python",
      "name": "python",
      "nbconvert_exporter": "python",
      "pygments_lexer": "ipython3",
      "version": "3.11.7"
    }
  },
  "nbformat": 4,
  "nbformat_minor": 0
}