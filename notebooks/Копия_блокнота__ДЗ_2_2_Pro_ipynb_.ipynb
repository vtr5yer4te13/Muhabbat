{
  "cells": [
    {
      "cell_type": "markdown",
      "metadata": {
        "id": "MH-3kVwvJYeP"
      },
      "source": [
        "\n",
        "# 2.2 Типы данных. Идентификаторы и ключевые слова. Целочисленные типы и числа с плавающей запятой. Строки"
      ]
    },
    {
      "cell_type": "markdown",
      "metadata": {
        "id": "gMwyKhlQJ1mf"
      },
      "source": [
        "## Задание 1"
      ]
    },
    {
      "cell_type": "markdown",
      "metadata": {
        "id": "Owu684lKKrjJ"
      },
      "source": [
        "**Условие:**\n",
        "Напишите функцию, получающую на вход целое положительное десятичное число и выводящую на экран его двоичное, восьмеричное и шестнадцатеричное представления. Что выдаст функция при подаче на вход числа ```124124234```.\n",
        "\n",
        "**Формат ответа:**\n",
        "Кортеж (например, ```(0b1000101,0o45312234,0xAFBBB012)```)\n"
      ]
    },
    {
      "cell_type": "markdown",
      "metadata": {
        "id": "OCTvo3fHLaaJ"
      },
      "source": [
        "**Решение:**"
      ]
    },
    {
      "cell_type": "code",
      "execution_count": null,
      "metadata": {
        "id": "f9_8IGndLeRO"
      },
      "outputs": [],
      "source": [
        "def number_representation(n):\n",
        "    binary = bin(n)\n",
        "    octal = oct(n)\n",
        "    hexadecimal = hex(n)\n",
        "    return (binary, octal, hexadecimal)\n"
      ]
    },
    {
      "cell_type": "markdown",
      "metadata": {
        "id": "g5S0h2-wKfGE"
      },
      "source": [
        "## Задание 2"
      ]
    },
    {
      "cell_type": "markdown",
      "metadata": {
        "id": "orX7BUzcPKKf"
      },
      "source": [
        "**Условие:**\n",
        "Напишите функцию получения двоичного представления числа с использованием битового сдвига и нажождения остатка от деления на 2. Примените к числу из предыдущей задачи.\n",
        "\n",
        "**Формат ответа:**\n",
        "Число в двоичном виде (например, ```0b10001110101```)\n"
      ]
    },
    {
      "cell_type": "markdown",
      "metadata": {
        "id": "ESSLfwqEPKKn"
      },
      "source": [
        "**Решение:**"
      ]
    },
    {
      "cell_type": "code",
      "execution_count": null,
      "metadata": {
        "id": "y8HOlaNLPKKq"
      },
      "outputs": [],
      "source": [
        "def binary_representation(n):\n",
        "    binary = ''\n",
        "    while n > 0:\n",
        "        binary = str(n % 2) + binary\n",
        "        n = n >> 1\n",
        "    return '0b' + binary\n"
      ]
    },
    {
      "cell_type": "markdown",
      "metadata": {
        "id": "tq0Fcrg1KfXQ"
      },
      "source": [
        "## Задание 3"
      ]
    },
    {
      "cell_type": "markdown",
      "metadata": {
        "id": "3xp-jyyHPMIb"
      },
      "source": [
        "**Условие:**\n",
        "Используя библиотеку ```math``` найдите значение $e^\\pi > \\pi^e$.\n",
        "\n",
        "**Формат ответа:**\n",
        "Булево число (например, ```False```)\n"
      ]
    },
    {
      "cell_type": "markdown",
      "metadata": {
        "id": "H5ZlBsI2PMIi"
      },
      "source": [
        "**Решение:**"
      ]
    },
    {
      "cell_type": "code",
      "execution_count": null,
      "metadata": {
        "colab": {
          "base_uri": "https://localhost:8080/"
        },
        "id": "6amsYUCoPMIn",
        "outputId": "7e2d487d-e009-43d8-8cbc-4befb35071b2"
      },
      "outputs": [
        {
          "output_type": "stream",
          "name": "stdout",
          "text": [
            "True\n"
          ]
        }
      ],
      "source": [
        "import math\n",
        "\n",
        "result = math.e**math.pi > math.pi**math.e\n",
        "print(result)\n"
      ]
    }
  ],
  "metadata": {
    "colab": {
      "provenance": []
    },
    "kernelspec": {
      "display_name": "Python 3 (ipykernel)",
      "language": "python",
      "name": "python3"
    },
    "language_info": {
      "codemirror_mode": {
        "name": "ipython",
        "version": 3
      },
      "file_extension": ".py",
      "mimetype": "text/x-python",
      "name": "python",
      "nbconvert_exporter": "python",
      "pygments_lexer": "ipython3",
      "version": "3.11.7"
    },
    "toc": {
      "base_numbering": 1,
      "nav_menu": {},
      "number_sections": true,
      "sideBar": true,
      "skip_h1_title": false,
      "title_cell": "Table of Contents",
      "title_sidebar": "Contents",
      "toc_cell": false,
      "toc_position": {},
      "toc_section_display": true,
      "toc_window_display": false
    }
  },
  "nbformat": 4,
  "nbformat_minor": 0
}