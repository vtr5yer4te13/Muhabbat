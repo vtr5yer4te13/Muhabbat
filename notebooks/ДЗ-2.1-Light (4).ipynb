{
 "cells": [
  {
   "cell_type": "markdown",
   "metadata": {
    "colab_type": "text",
    "id": "MH-3kVwvJYeP"
   },
   "source": [
    "\n",
    "# 2.1 Быстрое введение. Синтаксические основы языка Python"
   ]
  },
  {
   "cell_type": "markdown",
   "metadata": {
    "colab_type": "text",
    "id": "gMwyKhlQJ1mf"
   },
   "source": [
    "## Задание 1"
   ]
  },
  {
   "cell_type": "markdown",
   "metadata": {
    "colab_type": "text",
    "id": "Owu684lKKrjJ"
   },
   "source": [
    "**Условие:** \n",
    "Создайте коллекцию данных типа ```tuple``` из элементов различных типов данных.\n",
    "\n",
    "**Формат ответа:** \n",
    "Кортеж (например, ```(1,'str',2.7)```)"
   ]
  },
  {
   "cell_type": "markdown",
   "metadata": {
    "colab_type": "text",
    "id": "OCTvo3fHLaaJ"
   },
   "source": [
    "**Решение:**"
   ]
  },
  {
   "cell_type": "code",
   "execution_count": null,
   "metadata": {
    "colab": {},
    "colab_type": "code",
    "id": "f9_8IGndLeRO"
   },
   "outputs": [],
   "source": []
  },
  {
   "cell_type": "markdown",
   "metadata": {
    "colab_type": "text",
    "id": "g5S0h2-wKfGE"
   },
   "source": [
    "## Задание 2"
   ]
  },
  {
   "cell_type": "markdown",
   "metadata": {
    "colab_type": "text",
    "id": "orX7BUzcPKKf"
   },
   "source": [
    "**Условие:** \n",
    "Проверьте на истинность выражения : \n",
    "\n",
    "*   ```1 > 2```\n",
    "*   ```3**2 > 2**3```\n",
    "*   ```'a' < 'b'```\n",
    "*   ```'c' < 'b'```\n",
    "*   ```'a' in ['b','a','c']```\n",
    "\n",
    "\n",
    "**Формат ответа:** \n",
    "Кортеж из булевых значений (например, ```(True, False, True,False, True)```)"
   ]
  },
  {
   "cell_type": "markdown",
   "metadata": {
    "colab_type": "text",
    "id": "ESSLfwqEPKKn"
   },
   "source": [
    "**Решение:**"
   ]
  },
  {
   "cell_type": "code",
   "execution_count": 1,
   "metadata": {
    "colab": {
     "base_uri": "https://localhost:8080/",
     "height": 35
    },
    "colab_type": "code",
    "executionInfo": {
     "elapsed": 859,
     "status": "ok",
     "timestamp": 1582357836422,
     "user": {
      "displayName": "Oleg Konorev",
      "photoUrl": "",
      "userId": "00534607066585170740"
     },
     "user_tz": -180
    },
    "id": "y8HOlaNLPKKq",
    "outputId": "10d3fd4c-60ae-4b5c-935d-30caa4daa096"
   },
   "outputs": [
    {
     "data": {
      "text/plain": [
       "(False, False)"
      ]
     },
     "execution_count": 1,
     "metadata": {},
     "output_type": "execute_result"
    }
   ],
   "source": [
    "'c' < 'b'"
   ]
  },
  {
   "cell_type": "code",
   "execution_count": null,
   "metadata": {},
   "outputs": [],
   "source": []
  },
  {
   "cell_type": "markdown",
   "metadata": {
    "colab_type": "text",
    "id": "tq0Fcrg1KfXQ"
   },
   "source": [
    "## Задание 3"
   ]
  },
  {
   "cell_type": "markdown",
   "metadata": {
    "colab_type": "text",
    "id": "3xp-jyyHPMIb"
   },
   "source": [
    "**Условие:** \n",
    "Напишите функцию ```f_abs()``` нахождения модуля числа, которая получает на вход число и возвращает его, если оно положительно, иначе возвращает число с обратным знаком.\n",
    "Примените ее к числу ```170**2 - 150**3```.\n",
    "\n",
    "**Формат ответа:** \n",
    "Число (например, ```-20```)\n"
   ]
  },
  {
   "cell_type": "markdown",
   "metadata": {
    "colab_type": "text",
    "id": "H5ZlBsI2PMIi"
   },
   "source": [
    "**Решение:**"
   ]
  },
  {
   "cell_type": "code",
   "execution_count": 2,
   "metadata": {
    "colab": {},
    "colab_type": "code",
    "id": "6amsYUCoPMIn"
   },
   "outputs": [
    {
     "name": "stdout",
     "output_type": "stream",
     "text": [
      "3346100\n"
     ]
    }
   ],
   "source": []
  },
  {
   "cell_type": "code",
   "execution_count": null,
   "metadata": {},
   "outputs": [],
   "source": []
  }
 ],
 "metadata": {
  "colab": {
   "collapsed_sections": [],
   "name": "ДЗ-2.1-Light.ipynb",
   "provenance": []
  },
  "kernelspec": {
   "display_name": "Python 3 (ipykernel)",
   "language": "python",
   "name": "python3"
  },
  "language_info": {
   "codemirror_mode": {
    "name": "ipython",
    "version": 3
   },
   "file_extension": ".py",
   "mimetype": "text/x-python",
   "name": "python",
   "nbconvert_exporter": "python",
   "pygments_lexer": "ipython3",
   "version": "3.11.7"
  },
  "toc": {
   "base_numbering": 1,
   "nav_menu": {},
   "number_sections": true,
   "sideBar": true,
   "skip_h1_title": false,
   "title_cell": "Table of Contents",
   "title_sidebar": "Contents",
   "toc_cell": false,
   "toc_position": {},
   "toc_section_display": true,
   "toc_window_display": false
  }
 },
 "nbformat": 4,
 "nbformat_minor": 4
}
