{
  "cells": [
    {
      "cell_type": "markdown",
      "metadata": {
        "id": "MH-3kVwvJYeP"
      },
      "source": [
        "# 2.2 Типы данных. Идентификаторы и ключевые слова. Целочисленные типы и числа с плавающей запятой. Строки"
      ]
    },
    {
      "cell_type": "markdown",
      "metadata": {
        "id": "gMwyKhlQJ1mf"
      },
      "source": [
        "## Задание 1"
      ]
    },
    {
      "cell_type": "markdown",
      "metadata": {
        "id": "Owu684lKKrjJ"
      },
      "source": [
        "**Условие:**\n",
        "Напишите функцию, получающую на вход целое положительное десятичное число и выводящую на экран его двоичное представление. Что выдаст функция при подаче на вход числа ```124124234```.\n",
        "\n",
        "**Формат ответа:**\n",
        "Число в двоичном виде (например, ```0b10100001000101```)\n"
      ]
    },
    {
      "cell_type": "markdown",
      "metadata": {
        "id": "OCTvo3fHLaaJ"
      },
      "source": [
        "**Решение:**"
      ]
    },
    {
      "cell_type": "code",
      "execution_count": null,
      "metadata": {
        "id": "f9_8IGndLeRO",
        "colab": {
          "base_uri": "https://localhost:8080/"
        },
        "outputId": "fd713308-02bf-4617-fbef-984f5c7143ba"
      },
      "outputs": [
        {
          "output_type": "stream",
          "name": "stdout",
          "text": [
            "0b111011001011111110001001010\n"
          ]
        }
      ],
      "source": [
        "def decimal_to_binary(n):\n",
        "    return bin(n)\n",
        "\n",
        "number = 124124234\n",
        "binary_representation = decimal_to_binary(number)\n",
        "print(binary_representation)"
      ]
    },
    {
      "cell_type": "markdown",
      "metadata": {
        "id": "g5S0h2-wKfGE"
      },
      "source": [
        "## Задание 2"
      ]
    },
    {
      "cell_type": "markdown",
      "metadata": {
        "id": "orX7BUzcPKKf"
      },
      "source": [
        "**Условие:**\n",
        "Используя функции библиотеки ```math``` найдите значения синуса, косинуса и тангенса угла с градусной мерой ```75```. Округлите до 2х знаков после запятой.\n",
        "\n",
        "**Формат ответа:**\n",
        "Кортеж (например, ```(0.23, 0.67, 0.56)```)\n"
      ]
    },
    {
      "cell_type": "markdown",
      "metadata": {
        "id": "ESSLfwqEPKKn"
      },
      "source": [
        "**Решение:**"
      ]
    },
    {
      "cell_type": "code",
      "execution_count": null,
      "metadata": {
        "id": "y8HOlaNLPKKq",
        "colab": {
          "base_uri": "https://localhost:8080/"
        },
        "outputId": "1957dfd9-4300-48ba-f79e-74cb37817700"
      },
      "outputs": [
        {
          "output_type": "stream",
          "name": "stdout",
          "text": [
            "(0.97, 0.26, 3.73)\n"
          ]
        }
      ],
      "source": [
        "import math\n",
        "\n",
        "def trigonometric_values(degrees):\n",
        "    radians = math.radians(degrees)\n",
        "    sin_value = round(math.sin(radians), 2)\n",
        "    cos_value = round(math.cos(radians), 2)\n",
        "    tan_value = round(math.tan(radians), 2)\n",
        "    return (sin_value, cos_value, tan_value)\n",
        "\n",
        "angle_degrees = 75\n",
        "trigonometric_results = trigonometric_values(angle_degrees)\n",
        "print(trigonometric_results)"
      ]
    },
    {
      "cell_type": "markdown",
      "metadata": {
        "id": "tq0Fcrg1KfXQ"
      },
      "source": [
        "## Задание 3"
      ]
    },
    {
      "cell_type": "markdown",
      "metadata": {
        "id": "3xp-jyyHPMIb"
      },
      "source": [
        "**Условие:**\n",
        "С помощью операции среза выведите слово ```специалист``` из данного текста. В ответе укажите первый и последний индекс, который участвовал в срезе.\n",
        "\n",
        "**Формат ответа:**\n",
        "Кортеж (например, ```(5,10)```)\n",
        "\n"
      ]
    },
    {
      "cell_type": "markdown",
      "metadata": {
        "id": "H5ZlBsI2PMIi"
      },
      "source": [
        "**Решение:**"
      ]
    },
    {
      "cell_type": "code",
      "execution_count": null,
      "metadata": {
        "id": "6amsYUCoPMIn"
      },
      "outputs": [],
      "source": [
        "text = \"Представим ситуацию: вы — специалист по информационной безопасности и знаете, что выстроенная вами защита — полная чушь. Возможно, вы этого и не знаете, но проверять особо не желаете, ведь кому хочется выходить из зоны комфорта и дополнительно что-то предпринимать, внедрять средства защиты, смягчать риски, отчитываться за бюджет?\""
      ]
    },
    {
      "cell_type": "code",
      "execution_count": null,
      "metadata": {
        "id": "2IsoWN0glMYv",
        "colab": {
          "base_uri": "https://localhost:8080/"
        },
        "outputId": "99f8cddb-d31b-4e3c-954f-4b511565a6f7"
      },
      "outputs": [
        {
          "output_type": "stream",
          "name": "stdout",
          "text": [
            "ециалист п\n",
            "(28, 37)\n"
          ]
        }
      ],
      "source": [
        "text = \"Представим ситуацию: вы — специалист по информационной безопасности и знаете, что выстроенная вами защита — полная чушь. Возможно, вы этого и не знаете, но проверять особо не желаете, ведь кому хочется выходить из зоны комфорта и дополнительно что-то предпринимать, внедрять средства защиты, смягчать риски, отчитываться за бюджет?\"\n",
        "\n",
        "word_slice = text[28:38]\n",
        "indices = (28, 37)\n",
        "\n",
        "print(word_slice)\n",
        "print(indices)"
      ]
    }
  ],
  "metadata": {
    "colab": {
      "provenance": []
    },
    "kernelspec": {
      "display_name": "Python 3 (ipykernel)",
      "language": "python",
      "name": "python3"
    },
    "language_info": {
      "codemirror_mode": {
        "name": "ipython",
        "version": 3
      },
      "file_extension": ".py",
      "mimetype": "text/x-python",
      "name": "python",
      "nbconvert_exporter": "python",
      "pygments_lexer": "ipython3",
      "version": "3.11.7"
    },
    "toc": {
      "base_numbering": 1,
      "nav_menu": {},
      "number_sections": true,
      "sideBar": true,
      "skip_h1_title": false,
      "title_cell": "Table of Contents",
      "title_sidebar": "Contents",
      "toc_cell": false,
      "toc_position": {},
      "toc_section_display": true,
      "toc_window_display": false
    }
  },
  "nbformat": 4,
  "nbformat_minor": 0
}