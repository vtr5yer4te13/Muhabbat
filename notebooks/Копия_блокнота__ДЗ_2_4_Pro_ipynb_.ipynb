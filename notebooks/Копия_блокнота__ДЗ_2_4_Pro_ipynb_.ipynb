{
  "cells": [
    {
      "cell_type": "markdown",
      "metadata": {
        "id": "MH-3kVwvJYeP"
      },
      "source": [
        "# 2.4 Управляющие структуры. Условные ветвления и циклы"
      ]
    },
    {
      "cell_type": "markdown",
      "metadata": {
        "id": "gMwyKhlQJ1mf"
      },
      "source": [
        "## Задание 1"
      ]
    },
    {
      "cell_type": "markdown",
      "metadata": {
        "id": "Owu684lKKrjJ"
      },
      "source": [
        "Вычислить приблизительное значение экспоненциальной функции с использованием ряда Тейлора:\n",
        "$$\n",
        "e^x=\\sum_{n=0}^{100} {\\frac {x^n} {n!}}.\n",
        "$$\n",
        "Найдите значение $e^{20}$, округленное до 5 знаков после запятой.\n",
        "\n",
        "**Формат ответа:**\n",
        "Число (например, ```3213156.11234```)"
      ]
    },
    {
      "cell_type": "markdown",
      "metadata": {
        "id": "OCTvo3fHLaaJ"
      },
      "source": [
        "**Решение:**"
      ]
    },
    {
      "cell_type": "code",
      "execution_count": null,
      "metadata": {
        "colab": {
          "base_uri": "https://localhost:8080/"
        },
        "id": "f9_8IGndLeRO",
        "outputId": "c3235684-a810-4f0e-a139-229ca137a57a"
      },
      "outputs": [
        {
          "output_type": "stream",
          "name": "stdout",
          "text": [
            "485165195.40979\n"
          ]
        }
      ],
      "source": [
        "import math\n",
        "\n",
        "def calculate_e_to_the_power(x, terms=100):\n",
        "    sum = 0\n",
        "    for n in range(terms):\n",
        "        sum += x**n / math.factorial(n)\n",
        "    return sum\n",
        "\n",
        "# Вычисляем e^20\n",
        "result = calculate_e_to_the_power(20)\n",
        "\n",
        "# Округляем до 5 знаков после запятой\n",
        "result = round(result, 5)\n",
        "\n",
        "print(result)"
      ]
    },
    {
      "cell_type": "markdown",
      "metadata": {
        "id": "g5S0h2-wKfGE"
      },
      "source": [
        "## Задание 2"
      ]
    },
    {
      "cell_type": "markdown",
      "metadata": {
        "id": "orX7BUzcPKKf"
      },
      "source": [
        "**Условие:**\n",
        "Найдите среднее арифметическое всех **простых** делителей числа $n$, заданного пользователем. Дайте ответ для $n = 125632$. Требуется сперва получить лист делителей, а потом уже найти среднее арифметическое.\n",
        "\n",
        "**Формат ответа:** Число (например, ```2112.87```)"
      ]
    },
    {
      "cell_type": "markdown",
      "metadata": {
        "id": "ESSLfwqEPKKn"
      },
      "source": [
        "**Решение:**"
      ]
    },
    {
      "cell_type": "code",
      "execution_count": null,
      "metadata": {
        "colab": {
          "base_uri": "https://localhost:8080/"
        },
        "id": "y8HOlaNLPKKq",
        "outputId": "cea3aa65-05cc-49fe-a359-c99d1350768d"
      },
      "outputs": [
        {
          "output_type": "stream",
          "name": "stdout",
          "text": [
            "Sonning tub bo‘luvchilarining o‘rta arifmetik qiymati 125632 teng 55.333333333333336\n"
          ]
        }
      ],
      "source": [
        "def is_prime(n):\n",
        "    if n < 2:\n",
        "        return False\n",
        "    for i in range(2, int(n**0.5) + 1):\n",
        "        if n % i == 0:\n",
        "            return False\n",
        "    return True\n",
        "\n",
        "def prime_divisors(n):\n",
        "    divisors = [i for i in range(1, n + 1) if n % i == 0]\n",
        "    prime_divisors = [d for d in divisors if is_prime(d)]\n",
        "    return prime_divisors\n",
        "\n",
        "n = 125632\n",
        "p_divisors = prime_divisors(n)\n",
        "\n",
        "average = sum(p_divisors) / len(p_divisors)\n",
        "print(f\"Sonning tub bo‘luvchilarining o‘rta arifmetik qiymati {n} teng {average}\")\n"
      ]
    },
    {
      "cell_type": "markdown",
      "metadata": {
        "id": "tq0Fcrg1KfXQ"
      },
      "source": [
        "## Задание 3"
      ]
    },
    {
      "cell_type": "markdown",
      "metadata": {
        "id": "3xp-jyyHPMIb"
      },
      "source": [
        "**Условие:** Создайте игру, в которой пользователь должен угадать заранее случайным образом выбранное целое число от 1 до 100. В случае неправильного ответа программа должна делать подсказки вида: это число меньше(больше), чем загаданное.  Используйте модуль ```random``` и цикл ```while```. Не забудьте поставить условие выхода, например, при вводе символа *. Сыграйте с машиной в эту игру 3 раза(в каждой игре до выигрыша) и укажите среднее значение попыток до успешного угадывания.\n",
        "\n",
        "**Формат ответа:** Число (например, ```8```)"
      ]
    },
    {
      "cell_type": "markdown",
      "metadata": {
        "id": "H5ZlBsI2PMIi"
      },
      "source": [
        "**Решение:**"
      ]
    },
    {
      "cell_type": "code",
      "execution_count": null,
      "metadata": {
        "colab": {
          "base_uri": "https://localhost:8080/"
        },
        "id": "6amsYUCoPMIn",
        "outputId": "c72157f0-2c2e-48dd-ab0b-029a0ec7aa59"
      },
      "outputs": [
        {
          "output_type": "stream",
          "name": "stdout",
          "text": [
            "Угадайте число от 1 до 100 или введите * для выхода: 44\n",
            "Загаданное число меньше вашего ответа. Попробуйте еще раз.\n",
            "Угадайте число от 1 до 100 или введите * для выхода: 44\n",
            "Загаданное число меньше вашего ответа. Попробуйте еще раз.\n",
            "Угадайте число от 1 до 100 или введите * для выхода: 32\n",
            "Загаданное число меньше вашего ответа. Попробуйте еще раз.\n",
            "Угадайте число от 1 до 100 или введите * для выхода: 46\n",
            "Загаданное число меньше вашего ответа. Попробуйте еще раз.\n",
            "Угадайте число от 1 до 100 или введите * для выхода: 69\n",
            "Загаданное число меньше вашего ответа. Попробуйте еще раз.\n",
            "Угадайте число от 1 до 100 или введите * для выхода: 34\n",
            "Загаданное число меньше вашего ответа. Попробуйте еще раз.\n",
            "Угадайте число от 1 до 100 или введите * для выхода: 25\n",
            "Загаданное число меньше вашего ответа. Попробуйте еще раз.\n",
            "Угадайте число от 1 до 100 или введите * для выхода: 37\n",
            "Загаданное число меньше вашего ответа. Попробуйте еще раз.\n",
            "Угадайте число от 1 до 100 или введите * для выхода: 77\n",
            "Загаданное число меньше вашего ответа. Попробуйте еще раз.\n"
          ]
        }
      ],
      "source": [
        "import random\n",
        "\n",
        "def игра():\n",
        "    число = random.randint(1, 100)\n",
        "    попытки = 0\n",
        "\n",
        "    while True:\n",
        "        ответ = input(\"Угадайте число от 1 до 100 или введите * для выхода: \")\n",
        "        попытки += 1\n",
        "\n",
        "        if ответ == \"*\":\n",
        "            print(\"Игра завершена.\")\n",
        "            return попытки\n",
        "\n",
        "        elif int(ответ) == число:\n",
        "            print(\"Поздравляем, вы угадали число!\")\n",
        "            return попытки\n",
        "\n",
        "        elif int(ответ) > число:\n",
        "            print(\"Загаданное число меньше вашего ответа. Попробуйте еще раз.\")\n",
        "\n",
        "        else:\n",
        "            print(\"Загаданное число больше вашего ответа. Попробуйте еще раз.\")\n",
        "\n",
        "сумма_попыток = 0\n",
        "for _ in range(3):\n",
        "    сумма_попыток += игра()\n",
        "\n",
        "среднее = сумма_попыток / 3\n",
        "print(f\"Среднее количество попыток: {среднее}\")\n"
      ]
    }
  ],
  "metadata": {
    "colab": {
      "provenance": []
    },
    "kernelspec": {
      "display_name": "Python 3 (ipykernel)",
      "language": "python",
      "name": "python3"
    },
    "language_info": {
      "codemirror_mode": {
        "name": "ipython",
        "version": 3
      },
      "file_extension": ".py",
      "mimetype": "text/x-python",
      "name": "python",
      "nbconvert_exporter": "python",
      "pygments_lexer": "ipython3",
      "version": "3.11.7"
    }
  },
  "nbformat": 4,
  "nbformat_minor": 0
}